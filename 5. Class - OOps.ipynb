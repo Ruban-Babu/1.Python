{
 "cells": [
  {
   "cell_type": "code",
   "execution_count": 6,
   "metadata": {},
   "outputs": [],
   "source": [
    "class Calculator():\n",
    "    def addition(a,b):\n",
    "        add=a+b\n",
    "        return add\n",
    "\n",
    "    def substraction(a,b):\n",
    "        subs=a-b\n",
    "        return subs\n",
    "\n",
    "    def multiple(a,b):\n",
    "        mul=a+b\n",
    "        return mul"
   ]
  },
  {
   "cell_type": "code",
   "execution_count": 14,
   "metadata": {},
   "outputs": [
    {
     "name": "stdout",
     "output_type": "stream",
     "text": [
      "Addition :  7\n"
     ]
    }
   ],
   "source": [
    "result1=Calculator.addition(2,5)\n",
    "print(\"Addition : \",result1)"
   ]
  },
  {
   "cell_type": "code",
   "execution_count": 15,
   "metadata": {},
   "outputs": [
    {
     "name": "stdout",
     "output_type": "stream",
     "text": [
      "Substraction :  -3\n"
     ]
    }
   ],
   "source": [
    "result2=Calculator.substraction(2,5)\n",
    "print(\"Substraction : \",result2)"
   ]
  },
  {
   "cell_type": "code",
   "execution_count": 16,
   "metadata": {},
   "outputs": [
    {
     "name": "stdout",
     "output_type": "stream",
     "text": [
      "Multiple :  7\n"
     ]
    }
   ],
   "source": [
    "result3=Calculator.multiple(2,5)\n",
    "print(\"Multiple : \",result3)"
   ]
  },
  {
   "cell_type": "code",
   "execution_count": 23,
   "metadata": {},
   "outputs": [],
   "source": [
    "class Multiple_Function():\n",
    "    \n",
    "    def AgeCategory():\n",
    "        age=int(input(\"Enter your Age : \"))\n",
    "        if(age<18):\n",
    "            print(\"Children\")\n",
    "            cate=\"Children\"\n",
    "        elif(age<35):\n",
    "            print(\"Adult\")\n",
    "            cate=\"Adult\"\n",
    "        elif(age<59):\n",
    "            print(\"Citizen\")\n",
    "            cate=\"Citizen\"\n",
    "        else:\n",
    "            print(\"Senior Citizen\")\n",
    "            cate=\"Senior Citizen\"\n",
    "        return cate\n",
    "    \n",
    "    def Evenodd():\n",
    "        num=int(input(\"Enter the number :\"))\n",
    "        if((num%2)==0):\n",
    "            print(\"Even Number\")\n",
    "            message=\"Even Number\"\n",
    "        else:\n",
    "            print(\"Odd Number\")\n",
    "            message=\"Odd Number\"\n",
    "        return message \n",
    "    \n",
    "    def BMI():\n",
    "        Weight=int(input(\"Enter the BMI Index:\"))\n",
    "        if(Weight<18.5):\n",
    "            print(\"Under Weight\")\n",
    "            message=\"Under Weight\"\n",
    "        elif(Weight<=24.9):\n",
    "            print(\"Normal Weight\")\n",
    "            message=\"Normal Weight\"\n",
    "        elif(Weight<=29.9):\n",
    "            print(\"Over Weight\")\n",
    "            message=\"Over Weight\"\n",
    "        elif(Weight<=34.9):\n",
    "            print(\"Very Overweight\")\n",
    "            message=\"Very Overweight\"\n",
    "        elif(Weight<=39.9):\n",
    "            print(\"Very Overweight\")\n",
    "            message=\"Very Overweight\"\n",
    "        else:\n",
    "            print(\"Exteme Obseity\")\n",
    "            message=\"Extreme Obseity\"\n",
    "        return message"
   ]
  },
  {
   "cell_type": "code",
   "execution_count": 20,
   "metadata": {},
   "outputs": [
    {
     "name": "stdout",
     "output_type": "stream",
     "text": [
      "Enter the BMI Index:56\n",
      "Exteme Obseity\n"
     ]
    }
   ],
   "source": [
    "BMI=Multiple_Function.BMI()"
   ]
  },
  {
   "cell_type": "code",
   "execution_count": 25,
   "metadata": {},
   "outputs": [
    {
     "name": "stdout",
     "output_type": "stream",
     "text": [
      "Enter the number :33\n",
      "Odd Number\n"
     ]
    }
   ],
   "source": [
    "Number=Multiple_Function.Evenodd()"
   ]
  },
  {
   "cell_type": "code",
   "execution_count": 26,
   "metadata": {},
   "outputs": [
    {
     "name": "stdout",
     "output_type": "stream",
     "text": [
      "Enter your Age : 52\n",
      "Citizen\n"
     ]
    }
   ],
   "source": [
    "Age=Multiple_Function.AgeCategory()"
   ]
  },
  {
   "cell_type": "code",
   "execution_count": null,
   "metadata": {},
   "outputs": [],
   "source": []
  }
 ],
 "metadata": {
  "kernelspec": {
   "display_name": "Python 3",
   "language": "python",
   "name": "python3"
  },
  "language_info": {
   "codemirror_mode": {
    "name": "ipython",
    "version": 3
   },
   "file_extension": ".py",
   "mimetype": "text/x-python",
   "name": "python",
   "nbconvert_exporter": "python",
   "pygments_lexer": "ipython3",
   "version": "3.7.4"
  }
 },
 "nbformat": 4,
 "nbformat_minor": 2
}
